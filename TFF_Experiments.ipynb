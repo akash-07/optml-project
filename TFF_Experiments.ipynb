{
 "cells": [
  {
   "cell_type": "markdown",
   "id": "4ceb5592",
   "metadata": {},
   "source": [
    "# Example tensorflow federated Notebook\n",
    "\n",
    "Important notes so that you can actually run the notebook\n",
    "```\n",
    "Python 3.9 is required to run the notebook (Warning, 3.8 doesn't work!)\n",
    "the requirements are\n",
    "    - tensorflow\n",
    "    - tensorflow-federated\n",
    "    - juypter\n",
    "```\n",
    "\n",
    "To run **TFF** in the notebook, it is required to run those two lines (this is notebook-specific)\n",
    "```\n",
    "import nest_asyncio\n",
    "nest_asyncio.apply()\n",
    "```"
   ]
  },
  {
   "cell_type": "markdown",
   "id": "0add1f3d",
   "metadata": {},
   "source": [
    "#### Imports"
   ]
  },
  {
   "cell_type": "code",
   "execution_count": 27,
   "id": "a9f1a06d",
   "metadata": {},
   "outputs": [],
   "source": [
    "import tensorflow as tf\n",
    "import tensorflow_federated as tff\n",
    "import matplotlib.pyplot as plt\n",
    "\n",
    "\"\"\" These two lines are required to make TFF work in a notebook!!!! \"\"\"\n",
    "import nest_asyncio\n",
    "nest_asyncio.apply()"
   ]
  },
  {
   "cell_type": "markdown",
   "id": "efe98c3c",
   "metadata": {},
   "source": [
    "#### Example training on MNIST data (from the TFF homepage)"
   ]
  },
  {
   "cell_type": "code",
   "execution_count": 42,
   "id": "b646a94d",
   "metadata": {},
   "outputs": [
    {
     "name": "stdout",
     "output_type": "stream",
     "text": [
      "progress = 0.0, loss = 13.897555351257324\n",
      "progress = 0.016666666666666666, loss = 14.327109336853027\n",
      "progress = 0.03333333333333333, loss = 14.385420799255371\n",
      "progress = 0.05, loss = 14.352639198303223\n",
      "progress = 0.06666666666666667, loss = 14.375885963439941\n",
      "progress = 0.08333333333333333, loss = 14.471062660217285\n",
      "progress = 0.1, loss = 14.535594940185547\n",
      "progress = 0.11666666666666667, loss = 14.535594940185547\n",
      "progress = 0.13333333333333333, loss = 14.535594940185547\n",
      "progress = 0.15, loss = 14.535594940185547\n",
      "progress = 0.16666666666666666, loss = 14.535594940185547\n",
      "progress = 0.18333333333333332, loss = 14.535594940185547\n",
      "progress = 0.2, loss = 14.535594940185547\n",
      "progress = 0.21666666666666667, loss = 14.535594940185547\n",
      "progress = 0.23333333333333334, loss = 14.535594940185547\n",
      "progress = 0.25, loss = 14.535594940185547\n",
      "progress = 0.26666666666666666, loss = 14.535594940185547\n",
      "progress = 0.2833333333333333, loss = 14.535594940185547\n",
      "progress = 0.3, loss = 14.535594940185547\n",
      "progress = 0.31666666666666665, loss = 14.535594940185547\n",
      "progress = 0.3333333333333333, loss = 14.535594940185547\n",
      "progress = 0.35, loss = 14.535594940185547\n",
      "progress = 0.36666666666666664, loss = 14.535594940185547\n",
      "progress = 0.38333333333333336, loss = 14.535594940185547\n",
      "progress = 0.4, loss = 14.535594940185547\n",
      "progress = 0.4166666666666667, loss = 14.535594940185547\n",
      "progress = 0.43333333333333335, loss = 14.535594940185547\n",
      "progress = 0.45, loss = 14.535594940185547\n",
      "progress = 0.4666666666666667, loss = 14.535594940185547\n",
      "progress = 0.48333333333333334, loss = 14.535594940185547\n",
      "progress = 0.5, loss = 14.535594940185547\n",
      "progress = 0.5166666666666667, loss = 14.535594940185547\n",
      "progress = 0.5333333333333333, loss = 14.535594940185547\n",
      "progress = 0.55, loss = 14.535594940185547\n",
      "progress = 0.5666666666666667, loss = 14.535594940185547\n",
      "progress = 0.5833333333333334, loss = 14.535594940185547\n",
      "progress = 0.6, loss = 14.535594940185547\n",
      "progress = 0.6166666666666667, loss = 14.535594940185547\n",
      "progress = 0.6333333333333333, loss = 14.535594940185547\n",
      "progress = 0.65, loss = 14.535594940185547\n",
      "progress = 0.6666666666666666, loss = 14.535594940185547\n",
      "progress = 0.6833333333333333, loss = 14.535594940185547\n",
      "progress = 0.7, loss = 14.535594940185547\n",
      "progress = 0.7166666666666667, loss = 14.535594940185547\n",
      "progress = 0.7333333333333333, loss = 14.535594940185547\n",
      "progress = 0.75, loss = 14.535594940185547\n",
      "progress = 0.7666666666666667, loss = 14.535594940185547\n",
      "progress = 0.7833333333333333, loss = 14.535594940185547\n",
      "progress = 0.8, loss = 14.535594940185547\n",
      "progress = 0.8166666666666667, loss = 14.535594940185547\n",
      "progress = 0.8333333333333334, loss = 14.535594940185547\n",
      "progress = 0.85, loss = 14.535594940185547\n",
      "progress = 0.8666666666666667, loss = 14.535594940185547\n",
      "progress = 0.8833333333333333, loss = 14.535594940185547\n",
      "progress = 0.9, loss = 14.535594940185547\n",
      "progress = 0.9166666666666666, loss = 14.535594940185547\n",
      "progress = 0.9333333333333333, loss = 14.535594940185547\n",
      "progress = 0.95, loss = 14.535594940185547\n",
      "progress = 0.9666666666666667, loss = 14.535594940185547\n",
      "progress = 0.9833333333333333, loss = 14.535594940185547\n"
     ]
    }
   ],
   "source": [
    "# Load simulation data.\n",
    "source, _ = tff.simulation.datasets.emnist.load_data()\n",
    "def client_data(n):\n",
    "  return source.create_tf_dataset_for_client(source.client_ids[n]).map(\n",
    "      lambda e: (tf.reshape(e['pixels'], [-1]), e['label'])\n",
    "  ).repeat(10).batch(20)\n",
    "\n",
    "# Pick a subset of client devices to participate in training.\n",
    "train_data = [client_data(n) for n in range(3)]\n",
    "\n",
    "# Wrap a Keras model for use with TFF.\n",
    "def model_fn():\n",
    "  model = tf.keras.models.Sequential([\n",
    "      tf.keras.layers.Dense(10, tf.nn.softmax, input_shape=(784,),\n",
    "                            kernel_initializer='zeros')\n",
    "  ])\n",
    "  return tff.learning.from_keras_model(\n",
    "      model,\n",
    "      input_spec=train_data[0].element_spec,\n",
    "      loss=tf.keras.losses.SparseCategoricalCrossentropy(),\n",
    "      metrics=[tf.keras.metrics.SparseCategoricalAccuracy()])\n",
    "\n",
    "# Simulate a few rounds of training with the selected client devices.\n",
    "trainer = tff.learning.build_federated_averaging_process(\n",
    "  model_fn,\n",
    "  client_optimizer_fn=lambda: tf.keras.optimizers.SGD(0.1))\n",
    "state = trainer.initialize()\n",
    "_states = []\n",
    "_metrics = []\n",
    "T = 60\n",
    "for t in range(T):\n",
    "    state, metrics = trainer.next(state, train_data)\n",
    "    _states.append(state)\n",
    "    _metrics.append(metrics)\n",
    "    print(\"progress = {}, loss = {}\".format(t/T,metrics['train']['loss']))"
   ]
  },
  {
   "cell_type": "code",
   "execution_count": 39,
   "id": "b2bd4b51",
   "metadata": {},
   "outputs": [
    {
     "data": {
      "text/plain": [
       "OrderedDict([('broadcast', ()),\n",
       "             ('aggregation',\n",
       "              OrderedDict([('mean_value', ()), ('mean_weight', ())])),\n",
       "             ('train',\n",
       "              OrderedDict([('sparse_categorical_accuracy', 0.116),\n",
       "                           ('loss', 13.897555),\n",
       "                           ('num_examples', 2750),\n",
       "                           ('num_batches', 139)]))])"
      ]
     },
     "execution_count": 39,
     "metadata": {},
     "output_type": "execute_result"
    }
   ],
   "source": [
    "_metrics[0]"
   ]
  },
  {
   "cell_type": "code",
   "execution_count": 41,
   "id": "2548c67e",
   "metadata": {},
   "outputs": [
    {
     "data": {
      "text/plain": [
       "[<matplotlib.lines.Line2D at 0x7fc81f1c1430>]"
      ]
     },
     "execution_count": 41,
     "metadata": {},
     "output_type": "execute_result"
    },
    {
     "data": {
      "image/png": "[encoded data removed]",
      "text/plain": [
       "<Figure size 432x288 with 1 Axes>"
      ]
     },
     "metadata": {
      "needs_background": "light"
     },
     "output_type": "display_data"
    }
   ],
   "source": [
    "loss = [m['train']['loss'] for m in _metrics]\n",
    "sca = [m['train']['sparse_categorical_accuracy'] for m in _metrics]\n",
    "# plt.plot(loss)\n",
    "plt.plot(sca)"
   ]
  },
  {
   "cell_type": "code",
   "execution_count": 16,
   "id": "34be5531",
   "metadata": {},
   "outputs": [],
   "source": [
    "emnist_train, emnist_test = tff.simulation.datasets.emnist.load_data()"
   ]
  },
  {
   "cell_type": "code",
   "execution_count": 20,
   "id": "b54dee86",
   "metadata": {},
   "outputs": [
    {
     "data": {
      "text/plain": [
       "OrderedDict([('label', TensorSpec(shape=(), dtype=tf.int32, name=None)),\n",
       "             ('pixels',\n",
       "              TensorSpec(shape=(28, 28), dtype=tf.float32, name=None))])"
      ]
     },
     "execution_count": 20,
     "metadata": {},
     "output_type": "execute_result"
    }
   ],
   "source": [
    "emnist_train.element_type_structure"
   ]
  },
  {
   "cell_type": "code",
   "execution_count": null,
   "id": "9b37928c",
   "metadata": {},
   "outputs": [],
   "source": []
  }
 ],
 "metadata": {
  "interpreter": {
   "hash": "aefc484a974f99362037d4bd21123034b1719ec2f8cc4f2696e8b213b538e45d"
  },
  "kernelspec": {
   "display_name": "Python 3.8.13 ('TFF')",
   "language": "python",
   "name": "python3"
  },
  "language_info": {
   "codemirror_mode": {
    "name": "ipython",
    "version": 3
   },
   "file_extension": ".py",
   "mimetype": "text/x-python",
   "name": "python",
   "nbconvert_exporter": "python",
   "pygments_lexer": "ipython3",
   "version": "3.8.13"
  }
 },
 "nbformat": 4,
 "nbformat_minor": 5
}
