{
 "cells": [
  {
   "cell_type": "code",
   "execution_count": 1,
   "metadata": {},
   "outputs": [],
   "source": [
    "import tensorflow as tf\n",
    "from models import MyPerceptronKeras"
   ]
  },
  {
   "cell_type": "code",
   "execution_count": 142,
   "metadata": {},
   "outputs": [],
   "source": [
    "model = MyPerceptronKeras()"
   ]
  },
  {
   "cell_type": "code",
   "execution_count": 112,
   "metadata": {},
   "outputs": [
    {
     "data": {
      "text/plain": [
       "TensorShape([2, 2])"
      ]
     },
     "execution_count": 112,
     "metadata": {},
     "output_type": "execute_result"
    }
   ],
   "source": [
    "x = tf.constant([1.0, 2.0])\n",
    "xs = tf.constant([[1.0, 3.0], [5.0, 4.0]], dtype=tf.float64)\n",
    "xs.shape\n",
    "# w = tf.constant([3.0, 3.0])"
   ]
  },
  {
   "cell_type": "code",
   "execution_count": 113,
   "metadata": {},
   "outputs": [
    {
     "data": {
      "text/plain": [
       "<tf.Tensor: shape=(2,), dtype=float64, numpy=array([ 1., -2.])>"
      ]
     },
     "execution_count": 113,
     "metadata": {},
     "output_type": "execute_result"
    }
   ],
   "source": [
    "y_predicted = model(xs)\n",
    "y_predicted"
   ]
  },
  {
   "cell_type": "code",
   "execution_count": 114,
   "metadata": {},
   "outputs": [
    {
     "data": {
      "text/plain": [
       "<tf.Tensor: shape=(2,), dtype=float64, numpy=array([-1.,  1.])>"
      ]
     },
     "execution_count": 114,
     "metadata": {},
     "output_type": "execute_result"
    }
   ],
   "source": [
    "y_true = tf.constant([-1.0, 1.0], dtype=tf.float64)\n",
    "y_true"
   ]
  },
  {
   "cell_type": "code",
   "execution_count": 115,
   "metadata": {},
   "outputs": [],
   "source": [
    "def loss(y_predicted, y_true):\n",
    "    return tf.reduce_sum(tf.maximum(tf.cast(0.0, dtype=tf.float64), -y_true*y_predicted))\n",
    "    "
   ]
  },
  {
   "cell_type": "code",
   "execution_count": 116,
   "metadata": {},
   "outputs": [
    {
     "data": {
      "text/plain": [
       "<tf.Tensor: shape=(), dtype=float64, numpy=3.0>"
      ]
     },
     "execution_count": 116,
     "metadata": {},
     "output_type": "execute_result"
    }
   ],
   "source": [
    "loss(y_predicted, y_true)"
   ]
  },
  {
   "cell_type": "code",
   "execution_count": 143,
   "metadata": {},
   "outputs": [],
   "source": [
    "import json"
   ]
  },
  {
   "cell_type": "code",
   "execution_count": 144,
   "metadata": {},
   "outputs": [],
   "source": [
    "with open('../synthetic_data/train.json') as f:\n",
    "    d = json.load(f)"
   ]
  },
  {
   "cell_type": "code",
   "execution_count": 145,
   "metadata": {},
   "outputs": [],
   "source": [
    "xs = d['user_data']['0']['x']\n",
    "ys = d['user_data']['0']['y']"
   ]
  },
  {
   "cell_type": "code",
   "execution_count": 146,
   "metadata": {},
   "outputs": [],
   "source": [
    "tf_d = tf.data.Dataset.from_tensor_slices((xs, ys)).shuffle(100).map(lambda a,b: (tf.cast(a, tf.float64), tf.cast(b, tf.float64)))"
   ]
  },
  {
   "cell_type": "code",
   "execution_count": 147,
   "metadata": {},
   "outputs": [],
   "source": [
    "lr = 0.02"
   ]
  },
  {
   "cell_type": "code",
   "execution_count": 148,
   "metadata": {},
   "outputs": [],
   "source": [
    "loss_history = []"
   ]
  },
  {
   "cell_type": "code",
   "execution_count": 149,
   "metadata": {},
   "outputs": [
    {
     "name": "stdout",
     "output_type": "stream",
     "text": [
      "tf.Tensor(1.4819955229759216, shape=(), dtype=float64)\n",
      "tf.Tensor(2.872179559372631, shape=(), dtype=float64)\n",
      "tf.Tensor(3.368899772221416, shape=(), dtype=float64)\n",
      "tf.Tensor(4.382815980793678, shape=(), dtype=float64)\n",
      "tf.Tensor(0.6020323503168308, shape=(), dtype=float64)\n",
      "tf.Tensor(5.850208887943895, shape=(), dtype=float64)\n",
      "tf.Tensor(6.4780587641014895, shape=(), dtype=float64)\n",
      "tf.Tensor(11.536612583118773, shape=(), dtype=float64)\n",
      "tf.Tensor(7.963765244313512, shape=(), dtype=float64)\n",
      "tf.Tensor(8.949880921236055, shape=(), dtype=float64)\n",
      "tf.Tensor(11.228386322033938, shape=(), dtype=float64)\n",
      "tf.Tensor(7.595105719038031, shape=(), dtype=float64)\n",
      "tf.Tensor(0.0, shape=(), dtype=float64)\n",
      "tf.Tensor(7.580947022430509, shape=(), dtype=float64)\n",
      "tf.Tensor(6.83977052120462, shape=(), dtype=float64)\n",
      "tf.Tensor(11.54905411286052, shape=(), dtype=float64)\n",
      "tf.Tensor(12.069851347926054, shape=(), dtype=float64)\n",
      "tf.Tensor(8.32492541056427, shape=(), dtype=float64)\n",
      "tf.Tensor(3.8730514030224894, shape=(), dtype=float64)\n",
      "tf.Tensor(8.410958129354633, shape=(), dtype=float64)\n",
      "loss: 6.547924978741463\n",
      "tf.Tensor(12.951745361474572, shape=(), dtype=float64)\n",
      "tf.Tensor(8.706506011424386, shape=(), dtype=float64)\n",
      "tf.Tensor(7.7804682153103215, shape=(), dtype=float64)\n",
      "tf.Tensor(7.71744129439905, shape=(), dtype=float64)\n",
      "tf.Tensor(4.003561516093109, shape=(), dtype=float64)\n",
      "tf.Tensor(11.440524428100392, shape=(), dtype=float64)\n",
      "tf.Tensor(3.9133920088731244, shape=(), dtype=float64)\n",
      "tf.Tensor(10.802801794227376, shape=(), dtype=float64)\n",
      "tf.Tensor(8.762645360306935, shape=(), dtype=float64)\n",
      "tf.Tensor(9.381480686460847, shape=(), dtype=float64)\n",
      "tf.Tensor(4.719997092234585, shape=(), dtype=float64)\n",
      "tf.Tensor(5.199094194100601, shape=(), dtype=float64)\n",
      "tf.Tensor(5.5905437283876305, shape=(), dtype=float64)\n",
      "tf.Tensor(4.411664340790681, shape=(), dtype=float64)\n",
      "tf.Tensor(3.7249199107818973, shape=(), dtype=float64)\n",
      "tf.Tensor(1.5326574246087667, shape=(), dtype=float64)\n",
      "tf.Tensor(7.527580017071493, shape=(), dtype=float64)\n",
      "tf.Tensor(4.7459391101403865, shape=(), dtype=float64)\n",
      "tf.Tensor(3.6823807359255967, shape=(), dtype=float64)\n",
      "tf.Tensor(4.624731508399327, shape=(), dtype=float64)\n",
      "loss: 6.561003736955553\n",
      "tf.Tensor(1.6454816951318363, shape=(), dtype=float64)\n",
      "tf.Tensor(0.5927140269694242, shape=(), dtype=float64)\n",
      "tf.Tensor(1.759889006540698, shape=(), dtype=float64)\n",
      "tf.Tensor(0.808162295938434, shape=(), dtype=float64)\n",
      "tf.Tensor(0.7848663629496367, shape=(), dtype=float64)\n",
      "tf.Tensor(0.49202180541174756, shape=(), dtype=float64)\n",
      "tf.Tensor(1.3144133354757144, shape=(), dtype=float64)\n",
      "tf.Tensor(0.0, shape=(), dtype=float64)\n",
      "tf.Tensor(0.41896610856162164, shape=(), dtype=float64)\n",
      "tf.Tensor(2.8898480999633214, shape=(), dtype=float64)\n",
      "tf.Tensor(0.6266412898692726, shape=(), dtype=float64)\n",
      "tf.Tensor(0.0, shape=(), dtype=float64)\n",
      "tf.Tensor(0.2418632553490987, shape=(), dtype=float64)\n",
      "tf.Tensor(0.42691882631611, shape=(), dtype=float64)\n",
      "tf.Tensor(0.11810204639076749, shape=(), dtype=float64)\n",
      "tf.Tensor(0.0, shape=(), dtype=float64)\n",
      "tf.Tensor(0.0, shape=(), dtype=float64)\n",
      "tf.Tensor(0.0, shape=(), dtype=float64)\n",
      "tf.Tensor(0.0, shape=(), dtype=float64)\n",
      "tf.Tensor(0.0, shape=(), dtype=float64)\n",
      "loss: 0.6059944077433841\n",
      "tf.Tensor(0.035654793373707916, shape=(), dtype=float64)\n",
      "tf.Tensor(0.414640853220567, shape=(), dtype=float64)\n",
      "tf.Tensor(0.0, shape=(), dtype=float64)\n",
      "tf.Tensor(0.0, shape=(), dtype=float64)\n",
      "tf.Tensor(0.18685231889828458, shape=(), dtype=float64)\n",
      "tf.Tensor(0.0, shape=(), dtype=float64)\n",
      "tf.Tensor(0.4586778210900543, shape=(), dtype=float64)\n",
      "tf.Tensor(0.31184632249868305, shape=(), dtype=float64)\n",
      "tf.Tensor(0.0, shape=(), dtype=float64)\n",
      "tf.Tensor(0.0, shape=(), dtype=float64)\n",
      "tf.Tensor(0.0, shape=(), dtype=float64)\n",
      "tf.Tensor(0.0, shape=(), dtype=float64)\n",
      "tf.Tensor(0.42969437021086787, shape=(), dtype=float64)\n",
      "tf.Tensor(0.0, shape=(), dtype=float64)\n",
      "tf.Tensor(0.0, shape=(), dtype=float64)\n",
      "tf.Tensor(0.0, shape=(), dtype=float64)\n",
      "tf.Tensor(0.0, shape=(), dtype=float64)\n",
      "tf.Tensor(0.0, shape=(), dtype=float64)\n",
      "tf.Tensor(0.09285340532509512, shape=(), dtype=float64)\n",
      "tf.Tensor(0.0, shape=(), dtype=float64)\n",
      "loss: 0.09651099423086298\n",
      "tf.Tensor(0.0, shape=(), dtype=float64)\n",
      "tf.Tensor(0.0, shape=(), dtype=float64)\n",
      "tf.Tensor(0.0, shape=(), dtype=float64)\n",
      "tf.Tensor(0.5230041870073563, shape=(), dtype=float64)\n",
      "tf.Tensor(0.04889604022948002, shape=(), dtype=float64)\n",
      "tf.Tensor(0.03514653004081769, shape=(), dtype=float64)\n",
      "tf.Tensor(0.0, shape=(), dtype=float64)\n",
      "tf.Tensor(0.0, shape=(), dtype=float64)\n",
      "tf.Tensor(0.0, shape=(), dtype=float64)\n",
      "tf.Tensor(0.2225886613122815, shape=(), dtype=float64)\n",
      "tf.Tensor(0.0, shape=(), dtype=float64)\n",
      "tf.Tensor(0.0, shape=(), dtype=float64)\n",
      "tf.Tensor(0.12296229103005402, shape=(), dtype=float64)\n",
      "tf.Tensor(0.1410527176832752, shape=(), dtype=float64)\n",
      "tf.Tensor(0.0, shape=(), dtype=float64)\n",
      "tf.Tensor(0.0, shape=(), dtype=float64)\n",
      "tf.Tensor(0.0, shape=(), dtype=float64)\n",
      "tf.Tensor(0.0, shape=(), dtype=float64)\n",
      "tf.Tensor(0.0, shape=(), dtype=float64)\n",
      "tf.Tensor(0.0, shape=(), dtype=float64)\n",
      "loss: 0.05468252136516324\n",
      "tf.Tensor(0.0, shape=(), dtype=float64)\n",
      "tf.Tensor(0.16598668036531639, shape=(), dtype=float64)\n",
      "tf.Tensor(0.0, shape=(), dtype=float64)\n",
      "tf.Tensor(0.0, shape=(), dtype=float64)\n",
      "tf.Tensor(0.3358833720841608, shape=(), dtype=float64)\n",
      "tf.Tensor(0.0, shape=(), dtype=float64)\n",
      "tf.Tensor(0.0, shape=(), dtype=float64)\n",
      "tf.Tensor(0.0, shape=(), dtype=float64)\n",
      "tf.Tensor(0.09725168667940648, shape=(), dtype=float64)\n",
      "tf.Tensor(0.0, shape=(), dtype=float64)\n",
      "tf.Tensor(0.0, shape=(), dtype=float64)\n",
      "tf.Tensor(0.0, shape=(), dtype=float64)\n",
      "tf.Tensor(0.0, shape=(), dtype=float64)\n",
      "tf.Tensor(0.12241136743789638, shape=(), dtype=float64)\n",
      "tf.Tensor(0.0, shape=(), dtype=float64)\n",
      "tf.Tensor(0.0, shape=(), dtype=float64)\n",
      "tf.Tensor(0.0, shape=(), dtype=float64)\n",
      "tf.Tensor(0.0, shape=(), dtype=float64)\n",
      "tf.Tensor(0.0, shape=(), dtype=float64)\n",
      "tf.Tensor(0.014262235529621248, shape=(), dtype=float64)\n",
      "loss: 0.03678976710482006\n",
      "tf.Tensor(0.2844308564329654, shape=(), dtype=float64)\n",
      "tf.Tensor(0.0, shape=(), dtype=float64)\n",
      "tf.Tensor(0.0, shape=(), dtype=float64)\n",
      "tf.Tensor(0.0, shape=(), dtype=float64)\n",
      "tf.Tensor(0.0, shape=(), dtype=float64)\n",
      "tf.Tensor(0.0, shape=(), dtype=float64)\n",
      "tf.Tensor(0.0, shape=(), dtype=float64)\n",
      "tf.Tensor(0.0, shape=(), dtype=float64)\n",
      "tf.Tensor(0.0, shape=(), dtype=float64)\n",
      "tf.Tensor(0.0, shape=(), dtype=float64)\n",
      "tf.Tensor(0.21722698787494954, shape=(), dtype=float64)\n",
      "tf.Tensor(0.0, shape=(), dtype=float64)\n",
      "tf.Tensor(0.0, shape=(), dtype=float64)\n",
      "tf.Tensor(0.0, shape=(), dtype=float64)\n",
      "tf.Tensor(0.0, shape=(), dtype=float64)\n",
      "tf.Tensor(0.0, shape=(), dtype=float64)\n",
      "tf.Tensor(0.07482556176055932, shape=(), dtype=float64)\n",
      "tf.Tensor(0.0, shape=(), dtype=float64)\n",
      "tf.Tensor(0.0, shape=(), dtype=float64)\n",
      "tf.Tensor(0.0, shape=(), dtype=float64)\n",
      "loss: 0.028824170303423713\n",
      "tf.Tensor(0.0, shape=(), dtype=float64)\n",
      "tf.Tensor(0.0, shape=(), dtype=float64)\n",
      "tf.Tensor(0.0, shape=(), dtype=float64)\n",
      "tf.Tensor(0.0, shape=(), dtype=float64)\n",
      "tf.Tensor(0.0, shape=(), dtype=float64)\n",
      "tf.Tensor(0.0, shape=(), dtype=float64)\n",
      "tf.Tensor(0.0, shape=(), dtype=float64)\n",
      "tf.Tensor(0.0, shape=(), dtype=float64)\n",
      "tf.Tensor(0.0, shape=(), dtype=float64)\n",
      "tf.Tensor(0.054325068272012444, shape=(), dtype=float64)\n",
      "tf.Tensor(0.0, shape=(), dtype=float64)\n",
      "tf.Tensor(0.06375992616889725, shape=(), dtype=float64)\n",
      "tf.Tensor(0.0, shape=(), dtype=float64)\n",
      "tf.Tensor(0.11606267632858447, shape=(), dtype=float64)\n",
      "tf.Tensor(0.0, shape=(), dtype=float64)\n",
      "tf.Tensor(0.0, shape=(), dtype=float64)\n",
      "tf.Tensor(0.23354126545284715, shape=(), dtype=float64)\n",
      "tf.Tensor(0.0, shape=(), dtype=float64)\n",
      "tf.Tensor(0.0, shape=(), dtype=float64)\n",
      "tf.Tensor(0.0, shape=(), dtype=float64)\n",
      "loss: 0.023384446811117066\n",
      "tf.Tensor(0.055242021207603687, shape=(), dtype=float64)\n",
      "tf.Tensor(0.0, shape=(), dtype=float64)\n",
      "tf.Tensor(0.0, shape=(), dtype=float64)\n",
      "tf.Tensor(0.0, shape=(), dtype=float64)\n",
      "tf.Tensor(0.0, shape=(), dtype=float64)\n",
      "tf.Tensor(0.0, shape=(), dtype=float64)\n",
      "tf.Tensor(0.0, shape=(), dtype=float64)\n",
      "tf.Tensor(0.0, shape=(), dtype=float64)\n",
      "tf.Tensor(0.0689816389442579, shape=(), dtype=float64)\n",
      "tf.Tensor(0.0, shape=(), dtype=float64)\n",
      "tf.Tensor(0.0, shape=(), dtype=float64)\n",
      "tf.Tensor(0.0, shape=(), dtype=float64)\n",
      "tf.Tensor(0.0, shape=(), dtype=float64)\n",
      "tf.Tensor(0.0, shape=(), dtype=float64)\n",
      "tf.Tensor(0.0, shape=(), dtype=float64)\n",
      "tf.Tensor(0.0, shape=(), dtype=float64)\n",
      "tf.Tensor(0.0, shape=(), dtype=float64)\n",
      "tf.Tensor(0.0, shape=(), dtype=float64)\n",
      "tf.Tensor(0.24374128071119028, shape=(), dtype=float64)\n",
      "tf.Tensor(0.0, shape=(), dtype=float64)\n",
      "loss: 0.018398247043152592\n",
      "tf.Tensor(0.0, shape=(), dtype=float64)\n",
      "tf.Tensor(0.0, shape=(), dtype=float64)\n",
      "tf.Tensor(0.0, shape=(), dtype=float64)\n",
      "tf.Tensor(0.0, shape=(), dtype=float64)\n",
      "tf.Tensor(0.03976295412432074, shape=(), dtype=float64)\n",
      "tf.Tensor(0.0, shape=(), dtype=float64)\n",
      "tf.Tensor(0.14322712665755577, shape=(), dtype=float64)\n",
      "tf.Tensor(0.0, shape=(), dtype=float64)\n",
      "tf.Tensor(0.0, shape=(), dtype=float64)\n",
      "tf.Tensor(0.0, shape=(), dtype=float64)\n",
      "tf.Tensor(0.016101693326727506, shape=(), dtype=float64)\n",
      "tf.Tensor(0.0, shape=(), dtype=float64)\n",
      "tf.Tensor(0.0, shape=(), dtype=float64)\n",
      "tf.Tensor(0.0, shape=(), dtype=float64)\n",
      "tf.Tensor(0.0, shape=(), dtype=float64)\n",
      "tf.Tensor(0.0, shape=(), dtype=float64)\n",
      "tf.Tensor(0.0, shape=(), dtype=float64)\n",
      "tf.Tensor(0.0, shape=(), dtype=float64)\n",
      "tf.Tensor(0.04714551925275601, shape=(), dtype=float64)\n",
      "tf.Tensor(0.0, shape=(), dtype=float64)\n",
      "loss: 0.012311864668068\n"
     ]
    }
   ],
   "source": [
    "for _ in range(10):\n",
    "    loss_val = tf.Variable(0.0, dtype=tf.float64)\n",
    "    count = 0\n",
    "    for batch in tf_d.batch(5):\n",
    "        lr -= 0.001\n",
    "        y_predicted = model(batch[0])\n",
    "        # print(y_predicted.numpy())\n",
    "        y_true = batch[1]\n",
    "        print(loss(y_predicted, y_true))\n",
    "        loss_val.assign_add(loss(y_predicted, y_true)); count += 1\n",
    "        toMul = y_true*tf.maximum(tf.cast(0.0, dtype=tf.float64), -y_true*y_predicted)\n",
    "        grad_w_all = tf.transpose(tf.transpose(batch[0]) * toMul)\n",
    "        grad_w = tf.reduce_sum(grad_w_all, 0)\n",
    "        grad_b = tf.reduce_sum(toMul, 0)\n",
    "        \n",
    "        model.w.assign_add(lr*grad_w)\n",
    "        model.b.assign_add(lr*grad_b)\n",
    "    print(\"loss:\", loss_val.numpy()/count)\n",
    "    loss_history.append(loss_val/count)\n"
   ]
  },
  {
   "cell_type": "code",
   "execution_count": 135,
   "metadata": {},
   "outputs": [],
   "source": [
    "import matplotlib.pyplot as plt"
   ]
  },
  {
   "cell_type": "code",
   "execution_count": 136,
   "metadata": {},
   "outputs": [
    {
     "data": {
      "text/plain": [
       "[<matplotlib.lines.Line2D at 0x7fd488196ac0>]"
      ]
     },
     "execution_count": 136,
     "metadata": {},
     "output_type": "execute_result"
    },
    {
     "data": {
      "image/png": "[encoded data removed]",
      "text/plain": [
       "<Figure size 432x288 with 1 Axes>"
      ]
     },
     "metadata": {
      "needs_background": "light"
     },
     "output_type": "display_data"
    }
   ],
   "source": [
    "plt.plot(range(len(loss_history)), loss_history)"
   ]
  },
  {
   "cell_type": "code",
   "execution_count": 155,
   "metadata": {},
   "outputs": [
    {
     "data": {
      "text/plain": [
       "(-0.64796245, array([-0.08881515,  1.372045  ], dtype=float32))"
      ]
     },
     "execution_count": 155,
     "metadata": {},
     "output_type": "execute_result"
    }
   ],
   "source": [
    "model.b.numpy(), model.w.numpy()"
   ]
  },
  {
   "cell_type": "code",
   "execution_count": 138,
   "metadata": {},
   "outputs": [
    {
     "data": {
      "text/plain": [
       "(-0.634912, array([-0.19638506,  1.399368  ], dtype=float32))"
      ]
     },
     "execution_count": 138,
     "metadata": {},
     "output_type": "execute_result"
    }
   ],
   "source": [
    "model.b.numpy(), model.w.numpy()"
   ]
  },
  {
   "cell_type": "code",
   "execution_count": 156,
   "metadata": {},
   "outputs": [
    {
     "data": {
      "text/plain": [
       "<tf.Tensor: shape=(), dtype=float32, numpy=1.413081>"
      ]
     },
     "execution_count": 156,
     "metadata": {},
     "output_type": "execute_result"
    }
   ],
   "source": [
    "tf.norm([-0.19638506,  1.399368  ])"
   ]
  },
  {
   "cell_type": "code",
   "execution_count": 157,
   "metadata": {},
   "outputs": [
    {
     "data": {
      "text/plain": [
       "<tf.Tensor: shape=(), dtype=float32, numpy=1.3749166>"
      ]
     },
     "execution_count": 157,
     "metadata": {},
     "output_type": "execute_result"
    }
   ],
   "source": [
    "tf.norm([-0.08881515,  1.372045  ])"
   ]
  },
  {
   "cell_type": "code",
   "execution_count": null,
   "metadata": {},
   "outputs": [],
   "source": []
  }
 ],
 "metadata": {
  "interpreter": {
   "hash": "aca0000d8b95a7db30aecac74c0d64ba50d0ed041baf1a605b9aa3fc8c339d6a"
  },
  "kernelspec": {
   "display_name": "Python 3.8.10 ('venv': venv)",
   "language": "python",
   "name": "python3"
  },
  "language_info": {
   "codemirror_mode": {
    "name": "ipython",
    "version": 3
   },
   "file_extension": ".py",
   "mimetype": "text/x-python",
   "name": "python",
   "nbconvert_exporter": "python",
   "pygments_lexer": "ipython3",
   "version": "3.8.10"
  },
  "orig_nbformat": 4
 },
 "nbformat": 4,
 "nbformat_minor": 2
}
