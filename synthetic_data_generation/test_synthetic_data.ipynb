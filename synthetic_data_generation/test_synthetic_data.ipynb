{
 "cells": [
  {
   "cell_type": "code",
   "execution_count": 9,
   "metadata": {},
   "outputs": [],
   "source": [
    "import tensorflow as tf \n",
    "\n",
    "from tensorflow.keras import layers\n",
    "from tensorflow.keras import activations\n",
    "import numpy as np\n",
    "import numpy.linalg as la\n",
    "import numpy.random as rn\n",
    "import matplotlib.pyplot as plt\n",
    "from matplotlib import cm"
   ]
  },
  {
   "cell_type": "code",
   "execution_count": 10,
   "metadata": {},
   "outputs": [],
   "source": [
    "n=2\n",
    "model = tf.keras.Sequential([\n",
    "    layers.Dense(units=n),\n",
    "    layers.Activation(activations.tanh)\n",
    "])"
   ]
  },
  {
   "cell_type": "code",
   "execution_count": 55,
   "metadata": {},
   "outputs": [
    {
     "data": {
      "image/png": "[encoded data removed]",
      "text/plain": [
       "<Figure size 432x288 with 1 Axes>"
      ]
     },
     "metadata": {
      "needs_background": "light"
     },
     "output_type": "display_data"
    }
   ],
   "source": [
    "sigma = 3\n",
    "d= 5\n",
    "M = 3000\n",
    "def sample(cl) : return rn.normal([d*cl,-d*cl],[sigma,sigma])\n",
    "def plot(data):\n",
    "    c1 = data[0]\n",
    "    c2 = data[1]\n",
    "    plt.scatter(c1[:,0],c1[:,1])\n",
    "    plt.scatter(c2[:,0],c2[:,1])\n",
    "    plt.legend(['class 1','class 2'])\n",
    "    \n",
    "class1 = np.array([sample(1) for el in range(M//2)])\n",
    "class2 = np.array([sample(-1) for el in range(M//2)])\n",
    "data = [class1, class2]\n",
    "plot(data)"
   ]
  },
  {
   "cell_type": "code",
   "execution_count": 57,
   "metadata": {},
   "outputs": [],
   "source": [
    "x_1 = np.concatenate((class1,np.ones((class1.shape[0],1))),axis=1)\n",
    "x_2 = np.concatenate((class2,-np.ones((class1.shape[0],1))),axis=1)\n",
    "_x = np.concatenate((x_1,x_2),axis=0)\n",
    "train = _x[0:1000,:]\n",
    "test = _x[1000:,:]\n",
    "train_x = train[:,0:2]\n",
    "train_y = train[:,2]\n",
    "test_x = test[:,0:2]\n",
    "test_y = test[:,2]"
   ]
  },
  {
   "cell_type": "code",
   "execution_count": 60,
   "metadata": {},
   "outputs": [
    {
     "name": "stdout",
     "output_type": "stream",
     "text": [
      "Epoch 1/50\n",
      "16/16 [==============================] - 0s 13ms/step - loss: 0.0565 - val_loss: 0.0804\n",
      "Epoch 2/50\n",
      "16/16 [==============================] - 0s 2ms/step - loss: 0.0541 - val_loss: 0.0777\n",
      "Epoch 3/50\n",
      "16/16 [==============================] - 0s 2ms/step - loss: 0.0520 - val_loss: 0.0753\n",
      "Epoch 4/50\n",
      "16/16 [==============================] - 0s 2ms/step - loss: 0.0503 - val_loss: 0.0732\n",
      "Epoch 5/50\n",
      "16/16 [==============================] - 0s 2ms/step - loss: 0.0488 - val_loss: 0.0713\n",
      "Epoch 6/50\n",
      "16/16 [==============================] - 0s 2ms/step - loss: 0.0474 - val_loss: 0.0696\n",
      "Epoch 7/50\n",
      "16/16 [==============================] - 0s 2ms/step - loss: 0.0462 - val_loss: 0.0681\n",
      "Epoch 8/50\n",
      "16/16 [==============================] - 0s 2ms/step - loss: 0.0452 - val_loss: 0.0667\n",
      "Epoch 9/50\n",
      "16/16 [==============================] - 0s 2ms/step - loss: 0.0442 - val_loss: 0.0654\n",
      "Epoch 10/50\n",
      "16/16 [==============================] - 0s 2ms/step - loss: 0.0433 - val_loss: 0.0641\n",
      "Epoch 11/50\n",
      "16/16 [==============================] - 0s 2ms/step - loss: 0.0424 - val_loss: 0.0630\n",
      "Epoch 12/50\n",
      "16/16 [==============================] - 0s 2ms/step - loss: 0.0417 - val_loss: 0.0620\n",
      "Epoch 13/50\n",
      "16/16 [==============================] - 0s 2ms/step - loss: 0.0409 - val_loss: 0.0610\n",
      "Epoch 14/50\n",
      "16/16 [==============================] - 0s 2ms/step - loss: 0.0402 - val_loss: 0.0601\n",
      "Epoch 15/50\n",
      "16/16 [==============================] - 0s 2ms/step - loss: 0.0396 - val_loss: 0.0593\n",
      "Epoch 16/50\n",
      "16/16 [==============================] - 0s 2ms/step - loss: 0.0390 - val_loss: 0.0585\n",
      "Epoch 17/50\n",
      "16/16 [==============================] - 0s 2ms/step - loss: 0.0384 - val_loss: 0.0577\n",
      "Epoch 18/50\n",
      "16/16 [==============================] - 0s 2ms/step - loss: 0.0378 - val_loss: 0.0570\n",
      "Epoch 19/50\n",
      "16/16 [==============================] - 0s 2ms/step - loss: 0.0373 - val_loss: 0.0563\n",
      "Epoch 20/50\n",
      "16/16 [==============================] - 0s 2ms/step - loss: 0.0368 - val_loss: 0.0557\n",
      "Epoch 21/50\n",
      "16/16 [==============================] - 0s 2ms/step - loss: 0.0363 - val_loss: 0.0550\n",
      "Epoch 22/50\n",
      "16/16 [==============================] - 0s 2ms/step - loss: 0.0359 - val_loss: 0.0544\n",
      "Epoch 23/50\n",
      "16/16 [==============================] - 0s 2ms/step - loss: 0.0354 - val_loss: 0.0538\n",
      "Epoch 24/50\n",
      "16/16 [==============================] - 0s 2ms/step - loss: 0.0350 - val_loss: 0.0533\n",
      "Epoch 25/50\n",
      "16/16 [==============================] - 0s 2ms/step - loss: 0.0346 - val_loss: 0.0528\n",
      "Epoch 26/50\n",
      "16/16 [==============================] - 0s 2ms/step - loss: 0.0342 - val_loss: 0.0523\n",
      "Epoch 27/50\n",
      "16/16 [==============================] - 0s 2ms/step - loss: 0.0338 - val_loss: 0.0518\n",
      "Epoch 28/50\n",
      "16/16 [==============================] - 0s 2ms/step - loss: 0.0335 - val_loss: 0.0513\n",
      "Epoch 29/50\n",
      "16/16 [==============================] - 0s 2ms/step - loss: 0.0332 - val_loss: 0.0509\n",
      "Epoch 30/50\n",
      "16/16 [==============================] - 0s 2ms/step - loss: 0.0328 - val_loss: 0.0505\n",
      "Epoch 31/50\n",
      "16/16 [==============================] - 0s 2ms/step - loss: 0.0325 - val_loss: 0.0501\n",
      "Epoch 32/50\n",
      "16/16 [==============================] - 0s 2ms/step - loss: 0.0322 - val_loss: 0.0497\n",
      "Epoch 33/50\n",
      "16/16 [==============================] - 0s 2ms/step - loss: 0.0319 - val_loss: 0.0493\n",
      "Epoch 34/50\n",
      "16/16 [==============================] - 0s 2ms/step - loss: 0.0317 - val_loss: 0.0490\n",
      "Epoch 35/50\n",
      "16/16 [==============================] - 0s 2ms/step - loss: 0.0314 - val_loss: 0.0487\n",
      "Epoch 36/50\n",
      "16/16 [==============================] - 0s 2ms/step - loss: 0.0312 - val_loss: 0.0483\n",
      "Epoch 37/50\n",
      "16/16 [==============================] - 0s 2ms/step - loss: 0.0309 - val_loss: 0.0480\n",
      "Epoch 38/50\n",
      "16/16 [==============================] - 0s 2ms/step - loss: 0.0307 - val_loss: 0.0477\n",
      "Epoch 39/50\n",
      "16/16 [==============================] - 0s 2ms/step - loss: 0.0305 - val_loss: 0.0474\n",
      "Epoch 40/50\n",
      "16/16 [==============================] - 0s 2ms/step - loss: 0.0302 - val_loss: 0.0471\n",
      "Epoch 41/50\n",
      "16/16 [==============================] - 0s 2ms/step - loss: 0.0300 - val_loss: 0.0469\n",
      "Epoch 42/50\n",
      "16/16 [==============================] - 0s 2ms/step - loss: 0.0299 - val_loss: 0.0466\n",
      "Epoch 43/50\n",
      "16/16 [==============================] - 0s 2ms/step - loss: 0.0297 - val_loss: 0.0464\n",
      "Epoch 44/50\n",
      "16/16 [==============================] - 0s 2ms/step - loss: 0.0295 - val_loss: 0.0461\n",
      "Epoch 45/50\n",
      "16/16 [==============================] - 0s 2ms/step - loss: 0.0293 - val_loss: 0.0459\n",
      "Epoch 46/50\n",
      "16/16 [==============================] - 0s 2ms/step - loss: 0.0291 - val_loss: 0.0456\n",
      "Epoch 47/50\n",
      "16/16 [==============================] - 0s 2ms/step - loss: 0.0290 - val_loss: 0.0454\n",
      "Epoch 48/50\n",
      "16/16 [==============================] - 0s 2ms/step - loss: 0.0288 - val_loss: 0.0452\n",
      "Epoch 49/50\n",
      "16/16 [==============================] - 0s 2ms/step - loss: 0.0286 - val_loss: 0.0450\n",
      "Epoch 50/50\n",
      "16/16 [==============================] - 0s 2ms/step - loss: 0.0285 - val_loss: 0.0448\n"
     ]
    }
   ],
   "source": [
    "#FOR COMPILING\n",
    "model.compile(loss='hinge', optimizer='sgd')\n",
    "# optimizer can be substituted for another one\n",
    "#FOR EVALUATING\n",
    "history = model.fit(\n",
    "    train_x,\n",
    "    train_y,\n",
    "    batch_size=64,\n",
    "    epochs=50,\n",
    "    # We pass some validation for\n",
    "    # monitoring validation loss and metrics\n",
    "    # at the end of each epoch\n",
    "    validation_data=(test_x, test_y),\n",
    ")"
   ]
  },
  {
   "cell_type": "code",
   "execution_count": 63,
   "metadata": {},
   "outputs": [
    {
     "data": {
      "text/plain": [
       "[<matplotlib.lines.Line2D at 0x7fa2a9a73dc0>]"
      ]
     },
     "execution_count": 63,
     "metadata": {},
     "output_type": "execute_result"
    },
    {
     "data": {
      "image/png": "[encoded data removed]",
      "text/plain": [
       "<Figure size 432x288 with 1 Axes>"
      ]
     },
     "metadata": {
      "needs_background": "light"
     },
     "output_type": "display_data"
    }
   ],
   "source": [
    "plt.plot(history.history['loss'])"
   ]
  },
  {
   "cell_type": "code",
   "execution_count": 65,
   "metadata": {},
   "outputs": [
    {
     "data": {
      "text/plain": [
       "dict_keys(['loss', 'val_loss'])"
      ]
     },
     "execution_count": 65,
     "metadata": {},
     "output_type": "execute_result"
    }
   ],
   "source": [
    "history.history.keys()"
   ]
  },
  {
   "cell_type": "code",
   "execution_count": null,
   "metadata": {},
   "outputs": [],
   "source": []
  }
 ],
 "metadata": {
  "interpreter": {
   "hash": "aefc484a974f99362037d4bd21123034b1719ec2f8cc4f2696e8b213b538e45d"
  },
  "kernelspec": {
   "display_name": "Python 3.9.12 ('TFF')",
   "language": "python",
   "name": "python3"
  },
  "language_info": {
   "codemirror_mode": {
    "name": "ipython",
    "version": 3
   },
   "file_extension": ".py",
   "mimetype": "text/x-python",
   "name": "python",
   "nbconvert_exporter": "python",
   "pygments_lexer": "ipython3",
   "version": "3.8.13"
  },
  "orig_nbformat": 4
 },
 "nbformat": 4,
 "nbformat_minor": 2
}
